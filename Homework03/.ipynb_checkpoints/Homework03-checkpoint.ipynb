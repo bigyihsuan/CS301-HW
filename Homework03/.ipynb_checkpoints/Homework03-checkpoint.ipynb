{
 "cells": [
  {
   "cell_type": "code",
   "execution_count": 1,
   "metadata": {},
   "outputs": [],
   "source": [
    "# Yi-Hsuan Hsu\n",
    "# 2020-02-16\n",
    "# CS301-006, Watson\n",
    "# Homework03\n",
    "# Repo: https://github.com/bigyihsuan/CS350-HW/tree/master/Homework03\n",
    "# Commit: b4913377a1d7d3539819bc0bb341d19b847db0d3"
   ]
  },
  {
   "cell_type": "markdown",
   "metadata": {},
   "source": [
    "# Problem #1"
   ]
  },
  {
   "cell_type": "code",
   "execution_count": 2,
   "metadata": {},
   "outputs": [],
   "source": [
    "import pandas as pd\n",
    "def data_reader(path):\n",
    "    try:\n",
    "        data = pd.read_csv(path)\n",
    "    except:\n",
    "        print(\"Error during reading, please try again.\")\n",
    "        return None\n",
    "    print(\"The shape is:\", data.shape)\n",
    "    return data"
   ]
  },
  {
   "cell_type": "code",
   "execution_count": 3,
   "metadata": {},
   "outputs": [
    {
     "name": "stdout",
     "output_type": "stream",
     "text": [
      "The shape is: (193, 6)\n"
     ]
    }
   ],
   "source": [
    "my = data_reader('drinks.csv')"
   ]
  },
  {
   "cell_type": "code",
   "execution_count": 4,
   "metadata": {},
   "outputs": [
    {
     "name": "stdout",
     "output_type": "stream",
     "text": [
      "Error during reading, please try again.\n"
     ]
    }
   ],
   "source": [
    "no = data_reader('nodrinks.csv')"
   ]
  },
  {
   "cell_type": "markdown",
   "metadata": {},
   "source": [
    "# Problem #2"
   ]
  },
  {
   "cell_type": "code",
   "execution_count": 5,
   "metadata": {},
   "outputs": [],
   "source": [
    "def get_num_outliers(df, col):\n",
    "    column = df[col]\n",
    "    summary = column.describe()\n",
    "    q1 = summary.loc['25%']\n",
    "    q3 = summary.loc['75%']\n",
    "    iqr = q3 - q1\n",
    "    safelo = int(q1 - 1.5 * iqr)\n",
    "    safehi = int(q3 + 1.5 * iqr)\n",
    "    outliers = column.loc[(column <= safelo) | (column >= safehi)]\n",
    "    return len(outliers);"
   ]
  },
  {
   "cell_type": "code",
   "execution_count": 6,
   "metadata": {},
   "outputs": [
    {
     "data": {
      "text/plain": [
       "26"
      ]
     },
     "execution_count": 6,
     "metadata": {},
     "output_type": "execute_result"
    }
   ],
   "source": [
    "get_num_outliers(my, 'wine_servings')"
   ]
  },
  {
   "cell_type": "markdown",
   "metadata": {},
   "source": [
    "# Problem #3"
   ]
  },
  {
   "cell_type": "code",
   "execution_count": 13,
   "metadata": {},
   "outputs": [],
   "source": [
    "def num_deviants(df, col, multiplier):\n",
    "    column = df[col]\n",
    "    summary = column.describe()\n",
    "    mean = summary.mean()\n",
    "    std = summary.std()\n",
    "    lodev = mean - multiplier * std\n",
    "    hidev = mean + multiplier * std\n",
    "    deviants = column.loc[(column <= lodev) | (column >= hidev)]\n",
    "    return len(deviants)"
   ]
  },
  {
   "cell_type": "code",
   "execution_count": 14,
   "metadata": {},
   "outputs": [
    {
     "data": {
      "text/plain": [
       "10"
      ]
     },
     "execution_count": 14,
     "metadata": {},
     "output_type": "execute_result"
    }
   ],
   "source": [
    "num_deviants(my, 'wine_servings', 1)"
   ]
  },
  {
   "cell_type": "code",
   "execution_count": 15,
   "metadata": {},
   "outputs": [
    {
     "data": {
      "text/plain": [
       "1"
      ]
     },
     "execution_count": 15,
     "metadata": {},
     "output_type": "execute_result"
    }
   ],
   "source": [
    "num_deviants(my, 'wine_servings', 2)"
   ]
  }
 ],
 "metadata": {
  "kernelspec": {
   "display_name": "Python 3",
   "language": "python",
   "name": "python3"
  },
  "language_info": {
   "codemirror_mode": {
    "name": "ipython",
    "version": 3
   },
   "file_extension": ".py",
   "mimetype": "text/x-python",
   "name": "python",
   "nbconvert_exporter": "python",
   "pygments_lexer": "ipython3",
   "version": "3.7.4"
  }
 },
 "nbformat": 4,
 "nbformat_minor": 2
}
