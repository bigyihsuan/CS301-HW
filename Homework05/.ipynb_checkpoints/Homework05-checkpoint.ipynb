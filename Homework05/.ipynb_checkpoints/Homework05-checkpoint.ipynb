{
 "cells": [
  {
   "cell_type": "code",
   "execution_count": 48,
   "metadata": {},
   "outputs": [],
   "source": [
    "# Yi-Hsuan Hsu\n",
    "# 2020-03-02\n",
    "# CS301-006, Watson\n",
    "# Homework05\n",
    "# Repo: https://github.com/bigyihsuan/CS301-HW/\n",
    "# Commit: a324853d8fc787fc092cc396b8a3def56655fa76"
   ]
  },
  {
   "cell_type": "code",
   "execution_count": 285,
   "metadata": {},
   "outputs": [
    {
     "data": {
      "text/html": [
       "<div>\n",
       "<style scoped>\n",
       "    .dataframe tbody tr th:only-of-type {\n",
       "        vertical-align: middle;\n",
       "    }\n",
       "\n",
       "    .dataframe tbody tr th {\n",
       "        vertical-align: top;\n",
       "    }\n",
       "\n",
       "    .dataframe thead th {\n",
       "        text-align: right;\n",
       "    }\n",
       "</style>\n",
       "<table border=\"1\" class=\"dataframe\">\n",
       "  <thead>\n",
       "    <tr style=\"text-align: right;\">\n",
       "      <th></th>\n",
       "      <th>Name</th>\n",
       "      <th>Midterm</th>\n",
       "      <th>Final</th>\n",
       "      <th>Attendance</th>\n",
       "      <th>HW</th>\n",
       "      <th>Final Average</th>\n",
       "      <th>Final Letter</th>\n",
       "      <th>Numeric Bin</th>\n",
       "      <th>Majors</th>\n",
       "    </tr>\n",
       "  </thead>\n",
       "  <tbody>\n",
       "    <tr>\n",
       "      <td>0</td>\n",
       "      <td>Ariel</td>\n",
       "      <td>89</td>\n",
       "      <td>92</td>\n",
       "      <td>9</td>\n",
       "      <td>9</td>\n",
       "      <td>86.0</td>\n",
       "      <td>B+</td>\n",
       "      <td>80.0</td>\n",
       "      <td>BNFO</td>\n",
       "    </tr>\n",
       "    <tr>\n",
       "      <td>1</td>\n",
       "      <td>Brody</td>\n",
       "      <td>92</td>\n",
       "      <td>93</td>\n",
       "      <td>10</td>\n",
       "      <td>9</td>\n",
       "      <td>89.0</td>\n",
       "      <td>A</td>\n",
       "      <td>80.0</td>\n",
       "      <td>BNFO</td>\n",
       "    </tr>\n",
       "    <tr>\n",
       "      <td>2</td>\n",
       "      <td>Debra</td>\n",
       "      <td>76</td>\n",
       "      <td>88</td>\n",
       "      <td>8</td>\n",
       "      <td>6</td>\n",
       "      <td>74.0</td>\n",
       "      <td>C+</td>\n",
       "      <td>70.0</td>\n",
       "      <td>MATH</td>\n",
       "    </tr>\n",
       "    <tr>\n",
       "      <td>3</td>\n",
       "      <td>Rex</td>\n",
       "      <td>90</td>\n",
       "      <td>83</td>\n",
       "      <td>10</td>\n",
       "      <td>10</td>\n",
       "      <td>88.0</td>\n",
       "      <td>B+</td>\n",
       "      <td>80.0</td>\n",
       "      <td>MATH</td>\n",
       "    </tr>\n",
       "    <tr>\n",
       "      <td>4</td>\n",
       "      <td>Jerry</td>\n",
       "      <td>67</td>\n",
       "      <td>85</td>\n",
       "      <td>7</td>\n",
       "      <td>5</td>\n",
       "      <td>66.0</td>\n",
       "      <td>D</td>\n",
       "      <td>60.0</td>\n",
       "      <td>BNFO</td>\n",
       "    </tr>\n",
       "    <tr>\n",
       "      <td>...</td>\n",
       "      <td>...</td>\n",
       "      <td>...</td>\n",
       "      <td>...</td>\n",
       "      <td>...</td>\n",
       "      <td>...</td>\n",
       "      <td>...</td>\n",
       "      <td>...</td>\n",
       "      <td>...</td>\n",
       "      <td>...</td>\n",
       "    </tr>\n",
       "    <tr>\n",
       "      <td>145</td>\n",
       "      <td>Nicole</td>\n",
       "      <td>97</td>\n",
       "      <td>96</td>\n",
       "      <td>9</td>\n",
       "      <td>8</td>\n",
       "      <td>86.7</td>\n",
       "      <td>B+</td>\n",
       "      <td>80.0</td>\n",
       "      <td>MATH</td>\n",
       "    </tr>\n",
       "    <tr>\n",
       "      <td>146</td>\n",
       "      <td>Duncan</td>\n",
       "      <td>99</td>\n",
       "      <td>98</td>\n",
       "      <td>10</td>\n",
       "      <td>8</td>\n",
       "      <td>90.2</td>\n",
       "      <td>A</td>\n",
       "      <td>90.0</td>\n",
       "      <td>BNFO</td>\n",
       "    </tr>\n",
       "    <tr>\n",
       "      <td>147</td>\n",
       "      <td>Hope</td>\n",
       "      <td>96</td>\n",
       "      <td>92</td>\n",
       "      <td>10</td>\n",
       "      <td>9</td>\n",
       "      <td>89.8</td>\n",
       "      <td>A</td>\n",
       "      <td>80.0</td>\n",
       "      <td>IT</td>\n",
       "    </tr>\n",
       "    <tr>\n",
       "      <td>148</td>\n",
       "      <td>Kiara</td>\n",
       "      <td>93</td>\n",
       "      <td>91</td>\n",
       "      <td>10</td>\n",
       "      <td>10</td>\n",
       "      <td>90.9</td>\n",
       "      <td>A</td>\n",
       "      <td>90.0</td>\n",
       "      <td>CS</td>\n",
       "    </tr>\n",
       "    <tr>\n",
       "      <td>149</td>\n",
       "      <td>Zunair</td>\n",
       "      <td>95</td>\n",
       "      <td>82</td>\n",
       "      <td>9</td>\n",
       "      <td>10</td>\n",
       "      <td>86.1</td>\n",
       "      <td>B+</td>\n",
       "      <td>80.0</td>\n",
       "      <td>MATH</td>\n",
       "    </tr>\n",
       "  </tbody>\n",
       "</table>\n",
       "<p>150 rows × 9 columns</p>\n",
       "</div>"
      ],
      "text/plain": [
       "       Name  Midterm  Final  Attendance  HW  Final Average Final Letter  \\\n",
       "0     Ariel       89     92           9   9           86.0           B+   \n",
       "1     Brody       92     93          10   9           89.0            A   \n",
       "2     Debra       76     88           8   6           74.0           C+   \n",
       "3       Rex       90     83          10  10           88.0           B+   \n",
       "4     Jerry       67     85           7   5           66.0            D   \n",
       "..      ...      ...    ...         ...  ..            ...          ...   \n",
       "145  Nicole       97     96           9   8           86.7           B+   \n",
       "146  Duncan       99     98          10   8           90.2            A   \n",
       "147    Hope       96     92          10   9           89.8            A   \n",
       "148   Kiara       93     91          10  10           90.9            A   \n",
       "149  Zunair       95     82           9  10           86.1           B+   \n",
       "\n",
       "     Numeric Bin Majors  \n",
       "0           80.0   BNFO  \n",
       "1           80.0   BNFO  \n",
       "2           70.0   MATH  \n",
       "3           80.0   MATH  \n",
       "4           60.0   BNFO  \n",
       "..           ...    ...  \n",
       "145         80.0   MATH  \n",
       "146         90.0   BNFO  \n",
       "147         80.0     IT  \n",
       "148         90.0     CS  \n",
       "149         80.0   MATH  \n",
       "\n",
       "[150 rows x 9 columns]"
      ]
     },
     "execution_count": 285,
     "metadata": {},
     "output_type": "execute_result"
    }
   ],
   "source": [
    "import pandas as pd\n",
    "import numpy as np\n",
    "import matplotlib as mpl\n",
    "import matplotlib.pyplot as plt\n",
    "%matplotlib inline\n",
    "\n",
    "df = pd.read_csv(\"student_class.csv\", index_col=0)\n",
    "df"
   ]
  },
  {
   "cell_type": "markdown",
   "metadata": {},
   "source": [
    "# Problem 1"
   ]
  },
  {
   "cell_type": "code",
   "execution_count": 286,
   "metadata": {},
   "outputs": [
    {
     "data": {
      "text/html": [
       "<div>\n",
       "<style scoped>\n",
       "    .dataframe tbody tr th:only-of-type {\n",
       "        vertical-align: middle;\n",
       "    }\n",
       "\n",
       "    .dataframe tbody tr th {\n",
       "        vertical-align: top;\n",
       "    }\n",
       "\n",
       "    .dataframe thead th {\n",
       "        text-align: right;\n",
       "    }\n",
       "</style>\n",
       "<table border=\"1\" class=\"dataframe\">\n",
       "  <thead>\n",
       "    <tr style=\"text-align: right;\">\n",
       "      <th></th>\n",
       "      <th>Midterm</th>\n",
       "      <th>Final</th>\n",
       "      <th>Attendance</th>\n",
       "      <th>HW</th>\n",
       "      <th>Final Average</th>\n",
       "      <th>Numeric Bin</th>\n",
       "    </tr>\n",
       "  </thead>\n",
       "  <tbody>\n",
       "    <tr>\n",
       "      <td>count</td>\n",
       "      <td>150.000000</td>\n",
       "      <td>150.000000</td>\n",
       "      <td>150.000000</td>\n",
       "      <td>150.000000</td>\n",
       "      <td>150.000000</td>\n",
       "      <td>150.000000</td>\n",
       "    </tr>\n",
       "    <tr>\n",
       "      <td>mean</td>\n",
       "      <td>80.906667</td>\n",
       "      <td>78.426667</td>\n",
       "      <td>8.260000</td>\n",
       "      <td>6.920000</td>\n",
       "      <td>74.128000</td>\n",
       "      <td>69.733333</td>\n",
       "    </tr>\n",
       "    <tr>\n",
       "      <td>std</td>\n",
       "      <td>13.681588</td>\n",
       "      <td>14.691159</td>\n",
       "      <td>1.462874</td>\n",
       "      <td>2.523766</td>\n",
       "      <td>10.507959</td>\n",
       "      <td>10.865046</td>\n",
       "    </tr>\n",
       "    <tr>\n",
       "      <td>min</td>\n",
       "      <td>52.000000</td>\n",
       "      <td>50.000000</td>\n",
       "      <td>3.000000</td>\n",
       "      <td>2.000000</td>\n",
       "      <td>47.000000</td>\n",
       "      <td>40.000000</td>\n",
       "    </tr>\n",
       "    <tr>\n",
       "      <td>25%</td>\n",
       "      <td>71.000000</td>\n",
       "      <td>67.000000</td>\n",
       "      <td>7.250000</td>\n",
       "      <td>5.000000</td>\n",
       "      <td>66.975000</td>\n",
       "      <td>60.000000</td>\n",
       "    </tr>\n",
       "    <tr>\n",
       "      <td>50%</td>\n",
       "      <td>83.000000</td>\n",
       "      <td>81.000000</td>\n",
       "      <td>8.000000</td>\n",
       "      <td>7.000000</td>\n",
       "      <td>74.000000</td>\n",
       "      <td>70.000000</td>\n",
       "    </tr>\n",
       "    <tr>\n",
       "      <td>75%</td>\n",
       "      <td>93.000000</td>\n",
       "      <td>92.000000</td>\n",
       "      <td>9.000000</td>\n",
       "      <td>9.000000</td>\n",
       "      <td>83.875000</td>\n",
       "      <td>80.000000</td>\n",
       "    </tr>\n",
       "    <tr>\n",
       "      <td>max</td>\n",
       "      <td>100.000000</td>\n",
       "      <td>100.000000</td>\n",
       "      <td>10.000000</td>\n",
       "      <td>10.000000</td>\n",
       "      <td>93.600000</td>\n",
       "      <td>90.000000</td>\n",
       "    </tr>\n",
       "  </tbody>\n",
       "</table>\n",
       "</div>"
      ],
      "text/plain": [
       "          Midterm       Final  Attendance          HW  Final Average  \\\n",
       "count  150.000000  150.000000  150.000000  150.000000     150.000000   \n",
       "mean    80.906667   78.426667    8.260000    6.920000      74.128000   \n",
       "std     13.681588   14.691159    1.462874    2.523766      10.507959   \n",
       "min     52.000000   50.000000    3.000000    2.000000      47.000000   \n",
       "25%     71.000000   67.000000    7.250000    5.000000      66.975000   \n",
       "50%     83.000000   81.000000    8.000000    7.000000      74.000000   \n",
       "75%     93.000000   92.000000    9.000000    9.000000      83.875000   \n",
       "max    100.000000  100.000000   10.000000   10.000000      93.600000   \n",
       "\n",
       "       Numeric Bin  \n",
       "count   150.000000  \n",
       "mean     69.733333  \n",
       "std      10.865046  \n",
       "min      40.000000  \n",
       "25%      60.000000  \n",
       "50%      70.000000  \n",
       "75%      80.000000  \n",
       "max      90.000000  "
      ]
     },
     "execution_count": 286,
     "metadata": {},
     "output_type": "execute_result"
    }
   ],
   "source": [
    "df.describe()"
   ]
  },
  {
   "cell_type": "code",
   "execution_count": 287,
   "metadata": {},
   "outputs": [
    {
     "data": {
      "text/plain": [
       "array(['BNFO', 'MATH', 'IS', 'CS', 'IT'], dtype=object)"
      ]
     },
     "execution_count": 287,
     "metadata": {},
     "output_type": "execute_result"
    }
   ],
   "source": [
    "majors = df[\"Majors\"].unique()\n",
    "majors"
   ]
  },
  {
   "cell_type": "code",
   "execution_count": 289,
   "metadata": {},
   "outputs": [
    {
     "data": {
      "text/html": [
       "<div>\n",
       "<style scoped>\n",
       "    .dataframe tbody tr th:only-of-type {\n",
       "        vertical-align: middle;\n",
       "    }\n",
       "\n",
       "    .dataframe tbody tr th {\n",
       "        vertical-align: top;\n",
       "    }\n",
       "\n",
       "    .dataframe thead th {\n",
       "        text-align: right;\n",
       "    }\n",
       "</style>\n",
       "<table border=\"1\" class=\"dataframe\">\n",
       "  <thead>\n",
       "    <tr style=\"text-align: right;\">\n",
       "      <th></th>\n",
       "      <th>Midterm</th>\n",
       "      <th>Final</th>\n",
       "      <th>Attendance</th>\n",
       "      <th>HW</th>\n",
       "      <th>Final Average</th>\n",
       "      <th>Numeric Bin</th>\n",
       "    </tr>\n",
       "    <tr>\n",
       "      <th>Majors</th>\n",
       "      <th></th>\n",
       "      <th></th>\n",
       "      <th></th>\n",
       "      <th></th>\n",
       "      <th></th>\n",
       "      <th></th>\n",
       "    </tr>\n",
       "  </thead>\n",
       "  <tbody>\n",
       "    <tr>\n",
       "      <td>BNFO</td>\n",
       "      <td>87.5</td>\n",
       "      <td>90.5</td>\n",
       "      <td>9.0</td>\n",
       "      <td>7.0</td>\n",
       "      <td>75.05</td>\n",
       "      <td>70.0</td>\n",
       "    </tr>\n",
       "    <tr>\n",
       "      <td>CS</td>\n",
       "      <td>82.0</td>\n",
       "      <td>74.5</td>\n",
       "      <td>8.0</td>\n",
       "      <td>8.0</td>\n",
       "      <td>72.70</td>\n",
       "      <td>70.0</td>\n",
       "    </tr>\n",
       "    <tr>\n",
       "      <td>IS</td>\n",
       "      <td>73.0</td>\n",
       "      <td>81.0</td>\n",
       "      <td>8.0</td>\n",
       "      <td>6.0</td>\n",
       "      <td>71.80</td>\n",
       "      <td>70.0</td>\n",
       "    </tr>\n",
       "    <tr>\n",
       "      <td>IT</td>\n",
       "      <td>82.5</td>\n",
       "      <td>80.5</td>\n",
       "      <td>8.0</td>\n",
       "      <td>8.0</td>\n",
       "      <td>74.80</td>\n",
       "      <td>70.0</td>\n",
       "    </tr>\n",
       "    <tr>\n",
       "      <td>MATH</td>\n",
       "      <td>84.5</td>\n",
       "      <td>80.5</td>\n",
       "      <td>8.5</td>\n",
       "      <td>8.0</td>\n",
       "      <td>74.30</td>\n",
       "      <td>70.0</td>\n",
       "    </tr>\n",
       "  </tbody>\n",
       "</table>\n",
       "</div>"
      ],
      "text/plain": [
       "        Midterm  Final  Attendance   HW  Final Average  Numeric Bin\n",
       "Majors                                                             \n",
       "BNFO       87.5   90.5         9.0  7.0          75.05         70.0\n",
       "CS         82.0   74.5         8.0  8.0          72.70         70.0\n",
       "IS         73.0   81.0         8.0  6.0          71.80         70.0\n",
       "IT         82.5   80.5         8.0  8.0          74.80         70.0\n",
       "MATH       84.5   80.5         8.5  8.0          74.30         70.0"
      ]
     },
     "execution_count": 289,
     "metadata": {},
     "output_type": "execute_result"
    }
   ],
   "source": [
    "df.groupby(\"Majors\").agg(np.median)"
   ]
  },
  {
   "cell_type": "code",
   "execution_count": 290,
   "metadata": {},
   "outputs": [
    {
     "data": {
      "text/plain": [
       "Majors\n",
       "BNFO    87.5\n",
       "CS      82.0\n",
       "IS      73.0\n",
       "IT      82.5\n",
       "MATH    84.5\n",
       "Name: Midterm, dtype: float64"
      ]
     },
     "execution_count": 290,
     "metadata": {},
     "output_type": "execute_result"
    }
   ],
   "source": [
    "midterms = df.groupby(\"Majors\").agg(np.median)[\"Midterm\"]\n",
    "midterms"
   ]
  },
  {
   "cell_type": "code",
   "execution_count": 291,
   "metadata": {},
   "outputs": [
    {
     "data": {
      "text/plain": [
       "Majors\n",
       "BNFO    90.5\n",
       "CS      74.5\n",
       "IS      81.0\n",
       "IT      80.5\n",
       "MATH    80.5\n",
       "Name: Final, dtype: float64"
      ]
     },
     "execution_count": 291,
     "metadata": {},
     "output_type": "execute_result"
    }
   ],
   "source": [
    "finals = df.groupby(\"Majors\").agg(np.median)[\"Final\"]\n",
    "finals"
   ]
  },
  {
   "cell_type": "code",
   "execution_count": 292,
   "metadata": {},
   "outputs": [
    {
     "data": {
      "text/plain": [
       "Majors\n",
       "BNFO    75.05\n",
       "CS      72.70\n",
       "IS      71.80\n",
       "IT      74.80\n",
       "MATH    74.30\n",
       "Name: Final Average, dtype: float64"
      ]
     },
     "execution_count": 292,
     "metadata": {},
     "output_type": "execute_result"
    }
   ],
   "source": [
    "finavg = df.groupby(\"Majors\").agg(np.median)[\"Final Average\"]\n",
    "finavg"
   ]
  },
  {
   "cell_type": "code",
   "execution_count": 293,
   "metadata": {},
   "outputs": [
    {
     "data": {
      "text/plain": [
       "<matplotlib.legend.Legend at 0x7f30cac93810>"
      ]
     },
     "execution_count": 293,
     "metadata": {},
     "output_type": "execute_result"
    },
    {
     "data": {
      "image/png": "[encoded data removed]",
      "text/plain": [
       "<Figure size 864x432 with 1 Axes>"
      ]
     },
     "metadata": {
      "needs_background": "light"
     },
     "output_type": "display_data"
    }
   ],
   "source": [
    "x = np.arange(len(majors))\n",
    "width = 0.25\n",
    "\n",
    "fig, plot = plt.subplots()\n",
    "mid = plot.bar(x - width, midterms, width, Label=\"Midterm\")\n",
    "fin = plot.bar(x, finals, width, Label=\"Final\")\n",
    "avg = plot.bar(x + width, finavg, width, Label=\"Final Average\")\n",
    "\n",
    "plt.gcf().set_size_inches(12, 6)\n",
    "plot.set_xlabel(\"Majors\")\n",
    "plot.set_ylabel(\"Scores\")\n",
    "plot.set_xticks(x)\n",
    "plot.set_xticklabels(majors)\n",
    "plot.legend(handles=[mid,fin,avg], labels=[\"Midterm\", \"Final\", \"Final Avg\"], loc=\"upper right\")"
   ]
  },
  {
   "cell_type": "markdown",
   "metadata": {},
   "source": [
    "In general, BNFO majors seem to be performing the best. I think so because of their bars being longer than everyone else's."
   ]
  },
  {
   "cell_type": "markdown",
   "metadata": {},
   "source": [
    "# Problem 2"
   ]
  },
  {
   "cell_type": "code",
   "execution_count": 326,
   "metadata": {},
   "outputs": [
    {
     "data": {
      "text/plain": [
       "0      80.0\n",
       "1      80.0\n",
       "2      70.0\n",
       "3      80.0\n",
       "4      60.0\n",
       "       ... \n",
       "145    80.0\n",
       "146    90.0\n",
       "147    80.0\n",
       "148    90.0\n",
       "149    80.0\n",
       "Name: Numeric Bin, Length: 150, dtype: float64"
      ]
     },
     "execution_count": 326,
     "metadata": {},
     "output_type": "execute_result"
    }
   ],
   "source": [
    "numbin = df[\"Numeric Bin\"]\n",
    "numbin"
   ]
  },
  {
   "cell_type": "code",
   "execution_count": 332,
   "metadata": {},
   "outputs": [
    {
     "data": {
      "text/plain": [
       "(array([ 1.,  0., 16.,  0., 30.,  0., 48.,  0., 49.,  6.]),\n",
       " array([40., 45., 50., 55., 60., 65., 70., 75., 80., 85., 90.]),\n",
       " <a list of 10 Patch objects>)"
      ]
     },
     "execution_count": 332,
     "metadata": {},
     "output_type": "execute_result"
    },
    {
     "data": {
      "image/png": "[encoded data removed]",
      "text/plain": [
       "<Figure size 432x288 with 1 Axes>"
      ]
     },
     "metadata": {
      "needs_background": "light"
     },
     "output_type": "display_data"
    }
   ],
   "source": [
    "fig, ax = plt.subplots()\n",
    "ax.set_xlabel('Grade')\n",
    "ax.set_ylabel('Frequency')\n",
    "ax.set_title(\"Number of Students in Each Grade Bin\")\n",
    "ax.hist(numbin)"
   ]
  },
  {
   "cell_type": "markdown",
   "metadata": {},
   "source": [
    "* Data items: frequency of each grade range.\n",
    "* Attributes: Quantitative\n",
    "* Marks: Bar length\n",
    "* Channels: Difference in length\n",
    "I would not change anything with the graph, other than add in a legend.\n",
    "The distribution is skewed to the right."
   ]
  },
  {
   "cell_type": "markdown",
   "metadata": {},
   "source": [
    "# Problem 3"
   ]
  },
  {
   "cell_type": "code",
   "execution_count": 333,
   "metadata": {},
   "outputs": [
    {
     "data": {
      "text/plain": [
       "0      89\n",
       "1      92\n",
       "2      76\n",
       "3      90\n",
       "4      67\n",
       "       ..\n",
       "145    97\n",
       "146    99\n",
       "147    96\n",
       "148    93\n",
       "149    95\n",
       "Name: Midterm, Length: 150, dtype: int64"
      ]
     },
     "execution_count": 333,
     "metadata": {},
     "output_type": "execute_result"
    }
   ],
   "source": [
    "midterms = df['Midterm']\n",
    "midterms"
   ]
  },
  {
   "cell_type": "code",
   "execution_count": 338,
   "metadata": {},
   "outputs": [
    {
     "data": {
      "text/plain": [
       "0      92\n",
       "1      93\n",
       "2      88\n",
       "3      83\n",
       "4      85\n",
       "       ..\n",
       "145    96\n",
       "146    98\n",
       "147    92\n",
       "148    91\n",
       "149    82\n",
       "Name: Final, Length: 150, dtype: int64"
      ]
     },
     "execution_count": 338,
     "metadata": {},
     "output_type": "execute_result"
    }
   ],
   "source": [
    "finals = df['Final']\n",
    "finals"
   ]
  },
  {
   "cell_type": "code",
   "execution_count": 339,
   "metadata": {},
   "outputs": [
    {
     "data": {
      "text/plain": [
       "0      86.0\n",
       "1      89.0\n",
       "2      74.0\n",
       "3      88.0\n",
       "4      66.0\n",
       "       ... \n",
       "145    86.7\n",
       "146    90.2\n",
       "147    89.8\n",
       "148    90.9\n",
       "149    86.1\n",
       "Name: Final Average, Length: 150, dtype: float64"
      ]
     },
     "execution_count": 339,
     "metadata": {},
     "output_type": "execute_result"
    }
   ],
   "source": [
    "finavg = df['Final Average']\n",
    "finavg"
   ]
  },
  {
   "cell_type": "code",
   "execution_count": 344,
   "metadata": {},
   "outputs": [
    {
     "data": {
      "text/plain": [
       "<matplotlib.legend.Legend at 0x7f30cad03350>"
      ]
     },
     "execution_count": 344,
     "metadata": {},
     "output_type": "execute_result"
    },
    {
     "data": {
      "image/png": "[encoded data removed]",
      "text/plain": [
       "<Figure size 432x288 with 1 Axes>"
      ]
     },
     "metadata": {
      "needs_background": "light"
     },
     "output_type": "display_data"
    }
   ],
   "source": [
    "fig, plot = plt.subplots()\n",
    "plot.plot(midterms, finavg, 'o', label='Midterm')\n",
    "plot.plot(finals, finavg, 'o', label='Final')\n",
    "plot.set_xlabel('Exam Score')\n",
    "plot.set_ylabel('Final Average')\n",
    "plot.legend()"
   ]
  },
  {
   "cell_type": "markdown",
   "metadata": {},
   "source": [
    "* Data Items: Exam score and Final average\n",
    "* Attributes: quantitative\n",
    "* Marks and channels: Points\n",
    "There is a correlation between higher exam scores leading to higher final averages, but there is a large spread and thus a somewhat weak correlation."
   ]
  }
 ],
 "metadata": {
  "kernelspec": {
   "display_name": "Python 3",
   "language": "python",
   "name": "python3"
  },
  "language_info": {
   "codemirror_mode": {
    "name": "ipython",
    "version": 3
   },
   "file_extension": ".py",
   "mimetype": "text/x-python",
   "name": "python",
   "nbconvert_exporter": "python",
   "pygments_lexer": "ipython3",
   "version": "3.7.4"
  }
 },
 "nbformat": 4,
 "nbformat_minor": 2
}
